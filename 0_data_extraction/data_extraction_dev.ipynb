{
 "cells": [
  {
   "cell_type": "code",
   "execution_count": 1,
   "metadata": {},
   "outputs": [
    {
     "name": "stdout",
     "output_type": "stream",
     "text": [
      "Collecting PyPDF2\n",
      "  Downloading pypdf2-3.0.1-py3-none-any.whl (232 kB)\n",
      "\u001b[K     |████████████████████████████████| 232 kB 1.9 MB/s eta 0:00:01\n",
      "\u001b[?25hRequirement already satisfied: typing_extensions>=3.10.0.0; python_version < \"3.10\" in /opt/miniconda3/lib/python3.8/site-packages (from PyPDF2) (4.2.0)\n",
      "Installing collected packages: PyPDF2\n",
      "Successfully installed PyPDF2-3.0.1\n"
     ]
    }
   ],
   "source": [
    "# !pip install PyPDF2"
   ]
  },
  {
   "cell_type": "code",
   "execution_count": 2,
   "metadata": {},
   "outputs": [],
   "source": [
    "from PyPDF2 import PdfReader"
   ]
  },
  {
   "cell_type": "code",
   "execution_count": 4,
   "metadata": {},
   "outputs": [],
   "source": [
    "reader = PdfReader(\"sample_pdf/_au_cases_vic_VCAT_2009_2229.pdf\")\n",
    "number_of_pages = len(reader.pages)\n",
    "page = reader.pages[0]\n",
    "text = page.extract_text()"
   ]
  },
  {
   "cell_type": "code",
   "execution_count": 8,
   "metadata": {},
   "outputs": [
    {
     "name": "stdout",
     "output_type": "stream",
     "text": [
      "5KIPGF\u0003D[\u0003#WUV.++\n",
      "4GVTKGXGF\u0003HTQO\u0003#WUV.++\u0003QP\u0003\u0014\u0016\u0003(GDTWCT[\u0003\u0014\u0012\u0014\u0015\u0003CV\u0003\u0013\u0013\u001c",
      "\u0013\u001b\u001c",
      "\u0013\u0012VICTORIAN CIVIL AND ADMINISTRATIVE TRIBU NAL \n",
      "CIVIL DIVISION  \n",
      "DOMESTIC BUILDING LIST   \n",
      "VCAT REFERENCE NO. D616/2007  \n",
      "CATCHWORDS  \n",
      "Domestic building dispute – distinction between works which were the builder’s and owner’s \n",
      "responsibility under the contract – variations – whether failure to prime end grains of weatherboards a \n",
      "defect – appropriate measure of damage – delay – whether liquidated damages specified in  contract a \n",
      "penalty  \n",
      "APPLICANT  Nick Kotsiris  \n",
      "FIRST RESPONDENT  Georgina Kartsidimas  \n",
      "SECOND RESPONDENT  Chris Panayiotou  \n",
      "WHERE HELD  Melbourne  \n",
      "BEFORE  Deputy President C. Aird  \n",
      "HEARING TYPE  Hearing  \n",
      "DATE OF HEARING  23 – 30 March and 6 April 2009  \n",
      "DATE OF ORDER  28 October 2009  \n",
      "CITATION  Kotsiris v Kartsidimas & Anor ( Domestic \n",
      "Building) [2009] VCAT 2229  \n",
      "ORDER  \n",
      "1 I order the first respondent to pay to the applicant the sum of $25,972.97 . \n",
      "2 The applicant’s claim against the second respondent is dismissed.  \n",
      "3 Costs reserved with liberty to apply.   \n",
      "4 This proceeding is referred to a further directions hearing before Deputy \n",
      "President Aird on 25 November 2009 at 10 a.m. at 55 King S treet \n",
      "Melbourne to assess interest and hear any application for costs.  \n",
      " \n",
      " \n",
      "DEPUTY PRESIDENT C. AIRD    \n",
      " \n",
      "APPEARANCES:   \n",
      "For Applicant  Mr A Beck -Godoy of Counsel  \n",
      "For the First Respondent  Mr P Baker of Counsel  \n",
      "For the Second Respondent  In person  \n",
      "8GTKH[\u0003XGTUKQP\n",
      "5KIPGF\u0003D[\u0003#WUV.++\n",
      "4GVTKGXGF\u0003HTQO\u0003#WUV.++\u0003QP\u0003\u0014\u0016\u0003(GDTWCT[\u0003\u0014\u0012\u0014\u0015\u0003CV\u0003\u0013\u0013\u001c",
      "\u0013\u001b\u001c",
      "\u0013\u0012VICTORIAN CIVIL AND ADMINISTRATIVE TRIBU NAL \n",
      "CIVIL DIVISION  \n",
      "DOMESTIC BUILDING LIST   \n",
      "VCAT REFERENCE NO. D616/2007  \n",
      "CATCHWORDS  \n",
      "Domestic building dispute – distinction between works which were the builder’s and owner’s \n",
      "responsibility under the contract – variations – whether failure to prime end grains of weatherboards a \n",
      "defect – appropriate measure of damage – delay – whether liquidated damages specified in  contract a \n",
      "penalty  \n",
      "APPLICANT  Nick Kotsiris  \n",
      "FIRST RESPONDENT  Georgina Kartsidimas  \n",
      "SECOND RESPONDENT  Chris Panayiotou  \n",
      "WHERE HELD  Melbourne  \n",
      "BEFORE  Deputy President C. Aird  \n",
      "HEARING TYPE  Hearing  \n",
      "DATE OF HEARING  23 – 30 March and 6 April 2009  \n",
      "DATE OF ORDER  28 October 2009  \n",
      "CITATION  Kotsiris v Kartsidimas & Anor ( Domestic \n",
      "Building) [2009] VCAT 2229  \n",
      "ORDER  \n",
      "1 I order the first respondent to pay to the applicant the sum of $25,972.97 . \n",
      "2 The applicant’s claim against the second respondent is dismissed.  \n",
      "3 Costs reserved with liberty to apply.   \n",
      "4 This proceeding is referred to a further directions hearing before Deputy \n",
      "President Aird on 25 November 2009 at 10 a.m. at 55 King S treet \n",
      "Melbourne to assess interest and hear any application for costs.  \n",
      " \n",
      " \n",
      "DEPUTY PRESIDENT C. AIRD    \n",
      " \n",
      "APPEARANCES:   \n",
      "For Applicant  Mr A Beck -Godoy of Counsel  \n",
      "For the First Respondent  Mr P Baker of Counsel  \n",
      "For the Second Respondent  In person  \n",
      "8GTKH[\u0003XGTUKQP\n"
     ]
    }
   ],
   "source": [
    "for p in [0, 1]:\n",
    "    page = reader.pages[0]\n",
    "    text = page.extract_text()\n",
    "    print(text)"
   ]
  },
  {
   "cell_type": "code",
   "execution_count": null,
   "metadata": {},
   "outputs": [],
   "source": []
  }
 ],
 "metadata": {
  "kernelspec": {
   "display_name": "Python 3 (ipykernel)",
   "language": "python",
   "name": "python3"
  },
  "language_info": {
   "codemirror_mode": {
    "name": "ipython",
    "version": 3
   },
   "file_extension": ".py",
   "mimetype": "text/x-python",
   "name": "python",
   "nbconvert_exporter": "python",
   "pygments_lexer": "ipython3",
   "version": "3.8.2"
  }
 },
 "nbformat": 4,
 "nbformat_minor": 4
}
